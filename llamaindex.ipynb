{
 "cells": [
  {
   "cell_type": "code",
   "execution_count": 1,
   "metadata": {},
   "outputs": [
    {
     "data": {
      "text/plain": [
       "<module 'src.model_selection' from '/Users/apple/VScode_projects/llama_index_tgbot/src/model_selection.py'>"
      ]
     },
     "execution_count": 1,
     "metadata": {},
     "output_type": "execute_result"
    }
   ],
   "source": [
    "from src import model_selection as ms\n",
    "import json\n",
    "\n",
    "with open(\"private/test_queries.json\", \"r\") as json_file:\n",
    "    test_queries = json.load(json_file)\n",
    "\n",
    "import importlib\n",
    "\n",
    "importlib.reload(ms)"
   ]
  },
  {
   "cell_type": "code",
   "execution_count": 2,
   "metadata": {},
   "outputs": [],
   "source": [
    "### autotranslate files\n",
    "# folder_path = \"docs/2023-10-06/\"  # на конце должен быть /\n",
    "# folder_path_en = \"docs/2023-10-06_EN\"\n",
    "# ms.translate_word_files2(folder_path, folder_path_en)\n",
    "\n",
    "### Build index\n",
    "# folder = \"docs/2023-11-01_EN/\"\n",
    "# ms.build_index_vs(folder)\n",
    "# ms.build_index_kg(folder)\n",
    "# ms.build_index_vs_meta(folder)"
   ]
  },
  {
   "cell_type": "code",
   "execution_count": 3,
   "metadata": {},
   "outputs": [
    {
     "name": "stdout",
     "output_type": "stream",
     "text": [
      "третья планета от солнца\n",
      "По данным ChatGPT: Третья планета от Солнца - Земля.\n"
     ]
    }
   ],
   "source": [
    "text = test_queries[\"new\"][\"99\"]\n",
    "print(text)\n",
    "# simple = ms.model1107(text, \"private/storage/docs/2023-11-01_EN/\", True)\n",
    "# print(simple)\n",
    "meta = ms.model1107meta(text, \"private/storage/docs/2023-11-01_EN_meta/\", 0)\n",
    "print(meta)"
   ]
  }
 ],
 "metadata": {
  "kernelspec": {
   "display_name": "py309_llamaindex",
   "language": "python",
   "name": "python3"
  },
  "language_info": {
   "codemirror_mode": {
    "name": "ipython",
    "version": 3
   },
   "file_extension": ".py",
   "mimetype": "text/x-python",
   "name": "python",
   "nbconvert_exporter": "python",
   "pygments_lexer": "ipython3",
   "version": "3.9.13"
  },
  "orig_nbformat": 4
 },
 "nbformat": 4,
 "nbformat_minor": 2
}
